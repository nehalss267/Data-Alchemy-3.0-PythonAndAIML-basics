{
  "nbformat": 4,
  "nbformat_minor": 0,
  "metadata": {
    "colab": {
      "provenance": []
    },
    "kernelspec": {
      "name": "python3",
      "display_name": "Python 3"
    },
    "language_info": {
      "name": "python"
    }
  },
  "cells": [
    {
      "cell_type": "code",
      "execution_count": null,
      "metadata": {
        "id": "vihNN-rilLbv"
      },
      "outputs": [],
      "source": [
        "import numpy as np\n",
        "import pandas as pd\n",
        "from sklearn.model_selection import train_test_split\n",
        "from sklearn.linear_model import LinearRegression, LogisticRegression\n",
        "from sklearn.cluster import KMeans\n",
        "from sklearn.metrics import accuracy_score, confusion_matrix, classification_report, mean_squared_error\n",
        "from sklearn.datasets import load_iris, fetch_california_housing\n"
      ]
    },
    {
      "cell_type": "code",
      "source": [
        "# Set a consistent random state for reproducibility\n",
        "np.random.seed(42)"
      ],
      "metadata": {
        "id": "_nmdlOrMmc-9"
      },
      "execution_count": null,
      "outputs": []
    },
    {
      "cell_type": "code",
      "source": [
        "# ---- Linear Regression (Supervised Learning) ----\n",
        "print(\"--- Linear Regression ---\")\n",
        "X_lin = np.array([[1], [2], [3], [4], [5]])\n",
        "y_lin = np.array([2, 4, 6, 8, 10])  # Perfect linear relation\n",
        "\n",
        "model = LinearRegression()\n",
        "model.fit(X_lin, y_lin)\n",
        "\n",
        "print(f\"Coefficient: {model.coef_[0]:.2f}\")\n",
        "print(f\"Intercept: {model.intercept_:.2f}\")\n",
        "print(f\"Prediction for 6: {model.predict([[6]])[0]:.2f}\")\n",
        "print(\"-\" * 25)"
      ],
      "metadata": {
        "colab": {
          "base_uri": "https://localhost:8080/"
        },
        "id": "IaU2hKAqlQwa",
        "outputId": "dd8d8273-1b35-42ed-dc69-b8e9dde24a8c"
      },
      "execution_count": null,
      "outputs": [
        {
          "output_type": "stream",
          "name": "stdout",
          "text": [
            "--- Linear Regression ---\n",
            "Coefficient: 2.00\n",
            "Intercept: 0.00\n",
            "Prediction for 6: 12.00\n",
            "-------------------------\n"
          ]
        }
      ]
    },
    {
      "cell_type": "code",
      "source": [
        "# ---- Logistic Regression (Classification) ----\n",
        "print(\"--- Logistic Regression (Iris Dataset) ---\")\n",
        "iris = load_iris()\n",
        "X_iris = iris.data\n",
        "# Binary classification: Iris-setosa (0) or not\n",
        "y_iris = (iris.target == 0).astype(int)\n",
        "\n",
        "X_train_iris, X_test_iris, y_train_iris, y_test_iris = train_test_split(X_iris, y_iris, test_size=0.2, random_state=42)\n",
        "\n",
        "log_reg = LogisticRegression()\n",
        "log_reg.fit(X_train_iris, y_train_iris)\n",
        "\n",
        "y_pred_iris = log_reg.predict(X_test_iris)\n",
        "print(f\"Accuracy: {accuracy_score(y_test_iris, y_pred_iris):.2f}\")\n",
        "print(\"Confusion Matrix:\\n\", confusion_matrix(y_test_iris, y_pred_iris))\n",
        "print(\"-\" * 25)\n"
      ],
      "metadata": {
        "colab": {
          "base_uri": "https://localhost:8080/"
        },
        "id": "ia0YDJlwlWjD",
        "outputId": "1e92b29c-cb87-4867-beaa-0127c58234ad"
      },
      "execution_count": null,
      "outputs": [
        {
          "output_type": "stream",
          "name": "stdout",
          "text": [
            "--- Logistic Regression (Iris Dataset) ---\n",
            "Accuracy: 1.00\n",
            "Confusion Matrix:\n",
            " [[20  0]\n",
            " [ 0 10]]\n",
            "-------------------------\n"
          ]
        }
      ]
    },
    {
      "cell_type": "code",
      "source": [
        "# ---- KMeans Clustering (Unsupervised Learning) ----\n",
        "print(\"--- KMeans Clustering ---\")\n",
        "X_cluster = np.array([\n",
        "    [1, 2], [1, 4], [1, 0],\n",
        "    [10, 2], [10, 4], [10, 0]\n",
        "])\n",
        "\n",
        "kmeans = KMeans(n_clusters=2, n_init='auto', random_state=42)\n",
        "kmeans.fit(X_cluster)\n",
        "\n",
        "print(\"Cluster Centers:\\n\", kmeans.cluster_centers_)\n",
        "print(\"Labels:\", kmeans.labels_)\n",
        "print(\"-\" * 25)\n"
      ],
      "metadata": {
        "colab": {
          "base_uri": "https://localhost:8080/"
        },
        "id": "U2dL0_ixlc-z",
        "outputId": "ce00f9ec-3005-4db9-d989-f3d6f1414360"
      },
      "execution_count": null,
      "outputs": [
        {
          "output_type": "stream",
          "name": "stdout",
          "text": [
            "--- KMeans Clustering ---\n",
            "Cluster Centers:\n",
            " [[ 1.  2.]\n",
            " [10.  2.]]\n",
            "Labels: [0 0 0 1 1 1]\n",
            "-------------------------\n"
          ]
        }
      ]
    },
    {
      "cell_type": "code",
      "source": [
        "# ---- Train/Test Split Example ----\n",
        "X = np.array([[1], [2], [3], [4], [5], [6]])\n",
        "y = np.array([5, 7, 9, 11, 13, 15])\n",
        "\n",
        "X_train, X_test, y_train, y_test = train_test_split(X, y, test_size=0.3, random_state=42)\n",
        "\n",
        "lr = LinearRegression()\n",
        "lr.fit(X_train, y_train)\n",
        "\n",
        "print(\"Train Score:\", lr.score(X_train, y_train))\n",
        "print(\"Test Score:\", lr.score(X_test, y_test))\n"
      ],
      "metadata": {
        "colab": {
          "base_uri": "https://localhost:8080/"
        },
        "id": "LvUvqnGMljRy",
        "outputId": "943317db-d708-4dd3-a80e-84d6b8a4d48d"
      },
      "execution_count": null,
      "outputs": [
        {
          "output_type": "stream",
          "name": "stdout",
          "text": [
            "Train Score: 1.0\n",
            "Test Score: 1.0\n"
          ]
        }
      ]
    },
    {
      "cell_type": "code",
      "source": [
        "# R-squared score\n",
        "print(f\"Train Score (R-squared): {lr_split.score(X_train_split, y_train_split):.2f}\")\n",
        "print(f\"Test Score (R-squared): {lr_split.score(X_test_split, y_test_split):.2f}\")\n",
        "print(\"-\" * 25)\n"
      ],
      "metadata": {
        "colab": {
          "base_uri": "https://localhost:8080/"
        },
        "id": "R1B2RPScm2g4",
        "outputId": "38ca52f0-4ae9-473e-cecc-eaeaad74bd19"
      },
      "execution_count": null,
      "outputs": [
        {
          "output_type": "stream",
          "name": "stdout",
          "text": [
            "Train Score (R-squared): 1.00\n",
            "Test Score (R-squared): 1.00\n",
            "-------------------------\n"
          ]
        }
      ]
    },
    {
      "cell_type": "code",
      "source": [
        "# ---- Evaluation Metrics (Classification) ----\n",
        "print(\"--- Classification Metrics ---\")\n",
        "y_true = [0, 1, 1, 0, 1, 0, 1]\n",
        "y_pred = [0, 1, 0, 0, 1, 1, 1]\n",
        "\n",
        "print(f\"Accuracy: {accuracy_score(y_true, y_pred):.2f}\")\n",
        "print(\"Classification Report:\\n\", classification_report(y_true, y_pred))\n",
        "print(\"-\" * 25)"
      ],
      "metadata": {
        "colab": {
          "base_uri": "https://localhost:8080/"
        },
        "id": "4fPtcZ4dlmpf",
        "outputId": "65b79afc-52e6-405c-c5e6-790733a52c49"
      },
      "execution_count": null,
      "outputs": [
        {
          "output_type": "stream",
          "name": "stdout",
          "text": [
            "--- Classification Metrics ---\n",
            "Accuracy: 0.71\n",
            "Classification Report:\n",
            "               precision    recall  f1-score   support\n",
            "\n",
            "           0       0.67      0.67      0.67         3\n",
            "           1       0.75      0.75      0.75         4\n",
            "\n",
            "    accuracy                           0.71         7\n",
            "   macro avg       0.71      0.71      0.71         7\n",
            "weighted avg       0.71      0.71      0.71         7\n",
            "\n",
            "-------------------------\n"
          ]
        }
      ]
    },
    {
      "cell_type": "code",
      "source": [
        "# ---- Using Built-in Dataset (California Housing for Regression) ----\n",
        "print(\"--- California Housing Dataset (Regression) ---\")\n",
        "# Load the dataset\n",
        "housing = fetch_california_housing()"
      ],
      "metadata": {
        "colab": {
          "base_uri": "https://localhost:8080/"
        },
        "id": "JXt5rAxHlpau",
        "outputId": "dec912e0-5aa9-4017-956f-81277fc56fba"
      },
      "execution_count": null,
      "outputs": [
        {
          "output_type": "stream",
          "name": "stdout",
          "text": [
            "--- California Housing Dataset (Regression) ---\n"
          ]
        }
      ]
    }
  ]
}