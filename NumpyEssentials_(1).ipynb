{
  "nbformat": 4,
  "nbformat_minor": 0,
  "metadata": {
    "colab": {
      "provenance": []
    },
    "kernelspec": {
      "name": "python3",
      "display_name": "Python 3"
    },
    "language_info": {
      "name": "python"
    }
  },
  "cells": [
    {
      "cell_type": "code",
      "source": [
        "import numpy as np"
      ],
      "metadata": {
        "id": "eKR3etMhhPi5"
      },
      "execution_count": 2,
      "outputs": []
    },
    {
      "cell_type": "code",
      "execution_count": null,
      "metadata": {
        "id": "bfgs6EHUQpSz",
        "colab": {
          "base_uri": "https://localhost:8080/"
        },
        "outputId": "073b9edc-b1d8-4ed6-f9a5-12c099c3cebf"
      },
      "outputs": [
        {
          "output_type": "stream",
          "name": "stdout",
          "text": [
            "arr1: [1 2 3 4 5]\n",
            "arr2: [0 2 4 6 8]\n",
            "arr3: [0.   0.25 0.5  0.75 1.  ]\n",
            "arr4:\n",
            " [[0. 0. 0.]\n",
            " [0. 0. 0.]]\n",
            "arr7:\n",
            " [[0.58735765 0.78540185]\n",
            " [0.08178568 0.55159543]]\n"
          ]
        }
      ],
      "source": [
        "#  Creating Arrays\n",
        "arr1 = np.array([1, 2, 3, 4, 5])\n",
        "arr2 = np.arange(0, 10, 2)        # [0 2 4 6 8]\n",
        "arr3 = np.linspace(0, 1, 5)       # 5 values between 0 and 1\n",
        "arr4 = np.zeros((2, 3))           # 2x3 array of zeros\n",
        "arr5 = np.ones((3, 3))            # 3x3 array of ones\n",
        "arr6 = np.eye(3)                  # Identity matrix\n",
        "arr7 = np.random.rand(2, 2)       # Random floats [0,1)\n",
        "arr8 = np.random.randint(1, 10, 5) # 5 random integers 1–9\n",
        "\n",
        "print(\"arr1:\", arr1)\n",
        "print(\"arr2:\", arr2)\n",
        "print(\"arr3:\", arr3)\n",
        "print(\"arr4:\\n\", arr4)\n",
        "print(\"arr7:\\n\", arr7)"
      ]
    },
    {
      "cell_type": "code",
      "source": [
        "#  Array Operations\n",
        "arr = np.array([1, 2, 3, 4, 5])\n",
        "print(\"Sum:\", np.sum(arr))\n",
        "print(\"Mean:\", np.mean(arr))\n",
        "print(\"Std Dev:\", np.std(arr))\n",
        "print(\"Min:\", np.min(arr))\n",
        "print(\"Max:\", np.max(arr))\n",
        "print(\"Cumulative Sum:\", np.cumsum(arr))\n",
        "print(\"Cumulative Product:\", np.cumprod(arr))"
      ],
      "metadata": {
        "colab": {
          "base_uri": "https://localhost:8080/"
        },
        "id": "jVEsR6IFg6dL",
        "outputId": "a1f93759-8aea-42ce-a988-1502be706915"
      },
      "execution_count": null,
      "outputs": [
        {
          "output_type": "stream",
          "name": "stdout",
          "text": [
            "Sum: 15\n",
            "Mean: 3.0\n",
            "Std Dev: 1.4142135623730951\n",
            "Min: 1\n",
            "Max: 5\n",
            "Cumulative Sum: [ 1  3  6 10 15]\n",
            "Cumulative Product: [  1   2   6  24 120]\n"
          ]
        }
      ]
    },
    {
      "cell_type": "code",
      "source": [
        "#  Reshaping & Indexing\n",
        "matrix = np.arange(1, 10).reshape(3, 3)\n",
        "print(\"Matrix:\\n\", matrix)\n",
        "\n",
        "print(\"First row:\", matrix[0])\n",
        "print(\"First column:\", matrix[:, 0])\n",
        "print(\"Element at (1,2):\", matrix[1, 2])\n",
        "print(\"Slicing (rows 0-1, cols 1-2):\\n\", matrix[0:2, 1:3])"
      ],
      "metadata": {
        "colab": {
          "base_uri": "https://localhost:8080/"
        },
        "id": "ssD4A3ygg9RD",
        "outputId": "f63e7fb5-3add-418d-95ed-ef0be2f632ef"
      },
      "execution_count": null,
      "outputs": [
        {
          "output_type": "stream",
          "name": "stdout",
          "text": [
            "Matrix:\n",
            " [[1 2 3]\n",
            " [4 5 6]\n",
            " [7 8 9]]\n",
            "First row: [1 2 3]\n",
            "First column: [1 4 7]\n",
            "Element at (1,2): 6\n",
            "Slicing (rows 0-1, cols 1-2):\n",
            " [[2 3]\n",
            " [5 6]]\n"
          ]
        }
      ]
    },
    {
      "cell_type": "code",
      "source": [
        "#  Broadcasting\n",
        "a = np.array([1, 2, 3])\n",
        "b = np.array([10])\n",
        "print(\"a + b:\", a + b)  # Adds 10 to each element"
      ],
      "metadata": {
        "colab": {
          "base_uri": "https://localhost:8080/"
        },
        "id": "eMgLM71Eg9s3",
        "outputId": "02c93a3d-fba8-469e-8dc9-920d42c1e885"
      },
      "execution_count": 4,
      "outputs": [
        {
          "output_type": "stream",
          "name": "stdout",
          "text": [
            "a + b: [11 12 13]\n"
          ]
        }
      ]
    }
  ]
}