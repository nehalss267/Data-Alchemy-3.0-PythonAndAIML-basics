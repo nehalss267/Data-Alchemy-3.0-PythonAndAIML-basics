{
  "nbformat": 4,
  "nbformat_minor": 0,
  "metadata": {
    "colab": {
      "provenance": []
    },
    "kernelspec": {
      "name": "python3",
      "display_name": "Python 3"
    },
    "language_info": {
      "name": "python"
    }
  },
  "cells": [
    {
      "cell_type": "code",
      "source": [
        "import pandas as pd"
      ],
      "metadata": {
        "id": "-D1p_YKuiguE"
      },
      "execution_count": null,
      "outputs": []
    },
    {
      "cell_type": "code",
      "execution_count": null,
      "metadata": {
        "colab": {
          "base_uri": "https://localhost:8080/"
        },
        "id": "BIfvt0pMhwiZ",
        "outputId": "760aa12d-f6cb-43e0-f345-44789967d943"
      },
      "outputs": [
        {
          "output_type": "stream",
          "name": "stdout",
          "text": [
            "DataFrame:\n",
            "       Name  Age  Salary\n",
            "0    Alice   25   50000\n",
            "1      Bob   30   60000\n",
            "2  Charlie   35   70000\n",
            "3    David   40   80000\n"
          ]
        }
      ],
      "source": [
        "#  Creating DataFrame\n",
        "data = {\n",
        "    \"Name\": [\"Alice\", \"Bob\", \"Charlie\", \"David\"],\n",
        "    \"Age\": [25, 30, 35, 40],\n",
        "    \"Salary\": [50000, 60000, 70000, 80000]\n",
        "}\n",
        "df = pd.DataFrame(data)\n",
        "print(\"DataFrame:\\n\", df)"
      ]
    },
    {
      "cell_type": "code",
      "source": [
        "## Upload csv file\n",
        "#  Read & Write\n",
        "df = pd.read_csv(\"california_housing_test.csv\") # Reading CSV\n",
        "\n",
        "# You could save it to a new file like this (optional):\n",
        "df.to_csv(\"output.csv\", index=False) # Writing CSV\n"
      ],
      "metadata": {
        "id": "olqkgBDEiUGl"
      },
      "execution_count": null,
      "outputs": []
    },
    {
      "cell_type": "code",
      "source": [
        "# ---- Basic Info ----\n",
        "print(\"--- Basic Info ---\")\n",
        "print(\"Head:\\n\", df.head(2))          # First 2 rows\n",
        "print(\"\\nTail:\\n\", df.tail(2))          # Last 2 rows\n",
        "print(\"\\nShape:\", df.shape)             # (Rows, Columns)\n",
        "print(\"\\nColumns:\", df.columns.tolist())# List of column names\n",
        "print(\"\\n--- Info ---\")\n",
        "df.info()                               # Summary of the DataFrame\n",
        "print(\"\\n--- Description ---\")\n",
        "print(df.describe())                    # Statistical summary"
      ],
      "metadata": {
        "colab": {
          "base_uri": "https://localhost:8080/"
        },
        "id": "CRGtYgUAh38H",
        "outputId": "c0946b90-42a3-4a7f-a0ac-1c99414b7066"
      },
      "execution_count": null,
      "outputs": [
        {
          "output_type": "stream",
          "name": "stdout",
          "text": [
            "--- Basic Info ---\n",
            "Head:\n",
            "    longitude  latitude  housing_median_age  total_rooms  total_bedrooms  \\\n",
            "0    -122.05     37.37                27.0       3885.0           661.0   \n",
            "1    -118.30     34.26                43.0       1510.0           310.0   \n",
            "\n",
            "   population  households  median_income  median_house_value  \n",
            "0      1537.0       606.0         6.6085            344700.0  \n",
            "1       809.0       277.0         3.5990            176500.0  \n",
            "\n",
            "Tail:\n",
            "       longitude  latitude  housing_median_age  total_rooms  total_bedrooms  \\\n",
            "2998    -117.12     34.10                40.0         96.0            14.0   \n",
            "2999    -119.63     34.42                42.0       1765.0           263.0   \n",
            "\n",
            "      population  households  median_income  median_house_value  \n",
            "2998        46.0        14.0         3.2708            162500.0  \n",
            "2999       753.0       260.0         8.5608            500001.0  \n",
            "\n",
            "Shape: (3000, 9)\n",
            "\n",
            "Columns: ['longitude', 'latitude', 'housing_median_age', 'total_rooms', 'total_bedrooms', 'population', 'households', 'median_income', 'median_house_value']\n",
            "\n",
            "--- Info ---\n",
            "<class 'pandas.core.frame.DataFrame'>\n",
            "RangeIndex: 3000 entries, 0 to 2999\n",
            "Data columns (total 9 columns):\n",
            " #   Column              Non-Null Count  Dtype  \n",
            "---  ------              --------------  -----  \n",
            " 0   longitude           3000 non-null   float64\n",
            " 1   latitude            3000 non-null   float64\n",
            " 2   housing_median_age  3000 non-null   float64\n",
            " 3   total_rooms         3000 non-null   float64\n",
            " 4   total_bedrooms      3000 non-null   float64\n",
            " 5   population          3000 non-null   float64\n",
            " 6   households          3000 non-null   float64\n",
            " 7   median_income       3000 non-null   float64\n",
            " 8   median_house_value  3000 non-null   float64\n",
            "dtypes: float64(9)\n",
            "memory usage: 211.1 KB\n",
            "\n",
            "--- Description ---\n",
            "         longitude    latitude  housing_median_age   total_rooms  \\\n",
            "count  3000.000000  3000.00000         3000.000000   3000.000000   \n",
            "mean   -119.589200    35.63539           28.845333   2599.578667   \n",
            "std       1.994936     2.12967           12.555396   2155.593332   \n",
            "min    -124.180000    32.56000            1.000000      6.000000   \n",
            "25%    -121.810000    33.93000           18.000000   1401.000000   \n",
            "50%    -118.485000    34.27000           29.000000   2106.000000   \n",
            "75%    -118.020000    37.69000           37.000000   3129.000000   \n",
            "max    -114.490000    41.92000           52.000000  30450.000000   \n",
            "\n",
            "       total_bedrooms    population  households  median_income  \\\n",
            "count     3000.000000   3000.000000  3000.00000    3000.000000   \n",
            "mean       529.950667   1402.798667   489.91200       3.807272   \n",
            "std        415.654368   1030.543012   365.42271       1.854512   \n",
            "min          2.000000      5.000000     2.00000       0.499900   \n",
            "25%        291.000000    780.000000   273.00000       2.544000   \n",
            "50%        437.000000   1155.000000   409.50000       3.487150   \n",
            "75%        636.000000   1742.750000   597.25000       4.656475   \n",
            "max       5419.000000  11935.000000  4930.00000      15.000100   \n",
            "\n",
            "       median_house_value  \n",
            "count          3000.00000  \n",
            "mean         205846.27500  \n",
            "std          113119.68747  \n",
            "min           22500.00000  \n",
            "25%          121200.00000  \n",
            "50%          177650.00000  \n",
            "75%          263975.00000  \n",
            "max          500001.00000  \n"
          ]
        }
      ]
    },
    {
      "cell_type": "code",
      "source": [
        "# ---- Selection & Indexing ----\n",
        "print(\"\\n--- Selection & Indexing ---\")\n",
        "# Select a single column (e.g., total_rooms)\n",
        "print(\"\\nSingle Column (total_rooms):\\n\", df[\"total_rooms\"].head())\n",
        "\n",
        "# Select multiple columns\n",
        "print(\"\\nMultiple Columns:\\n\", df[[\"housing_median_age\", \"median_house_value\"]].head())\n",
        "\n",
        "# Select a row by its integer position (e.g., the second row)\n",
        "print(\"\\nRow by Index (iloc[1]):\\n\", df.iloc[1])\n",
        "\n",
        "# Select a row by its index label (e.g., the row with index 2)\n",
        "print(\"\\nRow by Label (loc[2]):\\n\", df.loc[2])\n",
        "\n",
        "# Select a specific cell [row=2, column='median_house_value']\n",
        "print(\"\\nCell [row=2, col='median_house_value']:\", df.loc[2, \"median_house_value\"])\n"
      ],
      "metadata": {
        "colab": {
          "base_uri": "https://localhost:8080/"
        },
        "id": "glOyJmivh4UY",
        "outputId": "bb4b3222-a47d-4cbf-9d76-417675c27fad"
      },
      "execution_count": null,
      "outputs": [
        {
          "output_type": "stream",
          "name": "stdout",
          "text": [
            "\n",
            "--- Selection & Indexing ---\n",
            "\n",
            "Single Column (total_rooms):\n",
            " 0    3885.0\n",
            "1    1510.0\n",
            "2    3589.0\n",
            "3      67.0\n",
            "4    1241.0\n",
            "Name: total_rooms, dtype: float64\n",
            "\n",
            "Multiple Columns:\n",
            "    housing_median_age  median_house_value\n",
            "0                45.0            344700.0\n",
            "1                43.0            176500.0\n",
            "2                27.0            270500.0\n",
            "3                28.0            330000.0\n",
            "4                19.0             81700.0\n",
            "\n",
            "Row by Index (iloc[1]):\n",
            " longitude               -118.300\n",
            "latitude                  34.260\n",
            "housing_median_age        43.000\n",
            "total_rooms             1510.000\n",
            "total_bedrooms           310.000\n",
            "population               809.000\n",
            "households               277.000\n",
            "median_income              3.599\n",
            "median_house_value    176500.000\n",
            "Name: 1, dtype: float64\n",
            "\n",
            "Row by Label (loc[2]):\n",
            " longitude               -117.8100\n",
            "latitude                  33.7800\n",
            "housing_median_age        27.0000\n",
            "total_rooms             3589.0000\n",
            "total_bedrooms           507.0000\n",
            "population              1484.0000\n",
            "households               495.0000\n",
            "median_income              5.7934\n",
            "median_house_value    270500.0000\n",
            "Name: 2, dtype: float64\n",
            "\n",
            "Cell [row=2, col='median_house_value']: 270500.0\n"
          ]
        }
      ]
    },
    {
      "cell_type": "code",
      "source": [
        "#  Filtering\n",
        "# Filter for houses older than 50 years\n",
        "print(\"\\nHouses with median_age > 50:\\n\", df[df[\"housing_median_age\"] > 50].head())\n",
        "\n",
        "# Filter for houses with a value between $150k and $200k\n",
        "value_filter = (df[\"median_house_value\"] >= 150000) & (df[\"median_house_value\"] <= 200000)\n",
        "print(\"\\nHouses with value between 150k & 200k:\\n\", df[value_filter].head())\n"
      ],
      "metadata": {
        "colab": {
          "base_uri": "https://localhost:8080/"
        },
        "id": "nrrsMuHjh4tq",
        "outputId": "eea14a6b-6544-402b-84fe-850a9dce657a"
      },
      "execution_count": null,
      "outputs": [
        {
          "output_type": "stream",
          "name": "stdout",
          "text": [
            "\n",
            "Houses with median_age > 50:\n",
            "      longitude  latitude  housing_median_age  total_rooms  total_bedrooms  \\\n",
            "26     -122.42     37.76                52.0       3587.0          1030.0   \n",
            "36     -122.53     37.97                52.0       1560.0           451.0   \n",
            "70     -121.92     37.33                52.0       2125.0           382.0   \n",
            "99     -118.20     33.77                52.0       1375.0           457.0   \n",
            "109    -122.43     37.74                52.0       1514.0           314.0   \n",
            "\n",
            "     population  households  median_income  median_house_value  \n",
            "26       2259.0       979.0         2.5403            250000.0  \n",
            "36        700.0       419.0         2.5125            270800.0  \n",
            "70        930.0       387.0         5.2831            299500.0  \n",
            "99       1089.0       317.0         2.2344            200000.0  \n",
            "109       724.0       301.0         5.3292            300900.0  \n",
            "\n",
            "Houses with value between 150k & 200k:\n",
            "     longitude  latitude  housing_median_age  total_rooms  total_bedrooms  \\\n",
            "1     -118.30     34.26                43.0       1510.0           310.0   \n",
            "7     -120.65     35.48                19.0       2310.0           471.0   \n",
            "8     -122.84     38.40                15.0       3080.0           617.0   \n",
            "9     -118.02     34.08                31.0       2402.0           632.0   \n",
            "15    -117.99     33.81                42.0        161.0            40.0   \n",
            "\n",
            "    population  households  median_income  median_house_value  \n",
            "1        809.0       277.0         3.5990            176500.0  \n",
            "7       1341.0       441.0         3.2250            166900.0  \n",
            "8       1446.0       599.0         3.6696            194400.0  \n",
            "9       2830.0       603.0         2.3333            164200.0  \n",
            "15       157.0        50.0         2.2000            153100.0  \n"
          ]
        }
      ]
    },
    {
      "cell_type": "code",
      "source": [
        "#  Adding & Modifying\n",
        "# Let's change the 'housing_median_age' for the first row (index 0) to 45\n",
        "df.loc[0, \"housing_median_age\"] = 45\n",
        "print(\"\\nModified DataFrame (new column and changed value):\\n\", df.head())"
      ],
      "metadata": {
        "colab": {
          "base_uri": "https://localhost:8080/"
        },
        "id": "4UthNh0uh43H",
        "outputId": "cae13c53-0d83-4770-b0f8-6dc05667861d"
      },
      "execution_count": null,
      "outputs": [
        {
          "output_type": "stream",
          "name": "stdout",
          "text": [
            "\n",
            "Modified DataFrame (new column and changed value):\n",
            "    longitude  latitude  housing_median_age  total_rooms  total_bedrooms  \\\n",
            "0    -122.05     37.37                45.0       3885.0           661.0   \n",
            "1    -118.30     34.26                43.0       1510.0           310.0   \n",
            "2    -117.81     33.78                27.0       3589.0           507.0   \n",
            "3    -118.36     33.82                28.0         67.0            15.0   \n",
            "4    -119.67     36.33                19.0       1241.0           244.0   \n",
            "\n",
            "   population  households  median_income  median_house_value  \n",
            "0      1537.0       606.0         6.6085            344700.0  \n",
            "1       809.0       277.0         3.5990            176500.0  \n",
            "2      1484.0       495.0         5.7934            270500.0  \n",
            "3        49.0        11.0         6.1359            330000.0  \n",
            "4       850.0       237.0         2.9375             81700.0  \n"
          ]
        }
      ]
    },
    {
      "cell_type": "code",
      "source": [
        "#  Sorting\n",
        "# Sort by population in ascending order\n",
        "print(\"\\nSort by Population:\\n\", df.sort_values(by=\"population\").head())\n",
        "\n",
        "# Sort by median house value in descending order\n",
        "print(\"\\nSort by Median House Value (Descending):\\n\", df.sort_values(by=\"median_house_value\", ascending=False).head())\n"
      ],
      "metadata": {
        "colab": {
          "base_uri": "https://localhost:8080/"
        },
        "id": "Q2NJGOt_h5AZ",
        "outputId": "f313c37d-5d4d-4a91-b131-929a03323f89"
      },
      "execution_count": null,
      "outputs": [
        {
          "output_type": "stream",
          "name": "stdout",
          "text": [
            "\n",
            "Sort by Population:\n",
            "       longitude  latitude  housing_median_age  total_rooms  total_bedrooms  \\\n",
            "2640    -114.62     33.62                26.0         18.0             3.0   \n",
            "740     -117.12     32.66                52.0         16.0             4.0   \n",
            "1115    -116.95     33.86                 1.0          6.0             2.0   \n",
            "1355    -117.11     32.66                52.0         25.0             5.0   \n",
            "2494    -118.44     34.04                49.0         32.0             7.0   \n",
            "\n",
            "      population  households  median_income  median_house_value  \n",
            "2640         5.0         3.0         0.5360            275000.0  \n",
            "740          8.0         3.0         1.1250             60000.0  \n",
            "1115         8.0         2.0         1.6250             55000.0  \n",
            "1355        14.0         9.0         1.6250            118800.0  \n",
            "2494        14.0         7.0         2.1875            225000.0  \n",
            "\n",
            "Sort by Median House Value (Descending):\n",
            "       longitude  latitude  housing_median_age  total_rooms  total_bedrooms  \\\n",
            "2968    -119.23     34.17                18.0       6171.0          1490.0   \n",
            "686     -122.00     37.86                18.0       8953.0          1074.0   \n",
            "702     -121.81     36.57                13.0       3030.0           413.0   \n",
            "389     -121.88     37.46                 5.0       1819.0           245.0   \n",
            "382     -118.36     33.80                38.0       2553.0           400.0   \n",
            "\n",
            "      population  households  median_income  median_house_value  \n",
            "2968      2164.0      1210.0         3.6875            500001.0  \n",
            "686       3011.0       993.0        10.7372            500001.0  \n",
            "702       1027.0       363.0         6.9615            500001.0  \n",
            "389        802.0       228.0        10.9722            500001.0  \n",
            "382       1042.0       393.0         6.9742            500001.0  \n"
          ]
        }
      ]
    },
    {
      "cell_type": "code",
      "source": [
        "#  GroupBy & Aggregation\n",
        "grouped = df.groupby(\"total_rooms\")[\"median_house_value\"].mean()\n",
        "print(\"\\nAverage house value by total rooms:\\n\", grouped)\n",
        "\n",
        "# Calculate the median population for each 'total_rooms' category\n",
        "agg_funcs = {\n",
        "    'population': 'median',\n",
        "    'median_house_value': 'mean'\n",
        "}\n",
        "grouped_agg = df.groupby('total_rooms').agg(agg_funcs)\n",
        "print(\"\\nAggregate\\n\", grouped_agg)\n"
      ],
      "metadata": {
        "colab": {
          "base_uri": "https://localhost:8080/"
        },
        "id": "U8XN5VJkiOSJ",
        "outputId": "5e0de3b7-9331-48d2-bb7b-e4a7f679ec33"
      },
      "execution_count": null,
      "outputs": [
        {
          "output_type": "stream",
          "name": "stdout",
          "text": [
            "\n",
            "Average house value by total rooms:\n",
            " total_rooms\n",
            "6.0         55000.0\n",
            "16.0        60000.0\n",
            "18.0       275000.0\n",
            "19.0       162500.0\n",
            "21.0       175000.0\n",
            "             ...   \n",
            "21988.0    191100.0\n",
            "23915.0    244900.0\n",
            "24121.0    239300.0\n",
            "27870.0    212200.0\n",
            "30450.0    174300.0\n",
            "Name: median_house_value, Length: 2215, dtype: float64\n",
            "\n",
            "Aggregate\n",
            "              population  median_house_value\n",
            "total_rooms                                \n",
            "6.0                 8.0             55000.0\n",
            "16.0                8.0             60000.0\n",
            "18.0                5.0            275000.0\n",
            "19.0              166.0            162500.0\n",
            "21.0               21.0            175000.0\n",
            "...                 ...                 ...\n",
            "21988.0          8824.0            191100.0\n",
            "23915.0         10877.0            244900.0\n",
            "24121.0          4176.0            239300.0\n",
            "27870.0         11935.0            212200.0\n",
            "30450.0          9419.0            174300.0\n",
            "\n",
            "[2215 rows x 2 columns]\n"
          ]
        }
      ]
    },
    {
      "cell_type": "code",
      "source": [
        "#  Handling Missing Values: computational errors, biased results, and poor model performance.\n",
        "df2 = pd.DataFrame({\n",
        "    \"Name\": [\"Eve\", \"Frank\", None],\n",
        "    \"Age\": [28, None, 40],\n",
        "    \"Salary\": [55000, 62000, None]\n",
        "})\n",
        "print(\"Original DataFrame with Missing Values:\\n\", df2)\n",
        "\n",
        "# Drop rows with any missing values\n",
        "print(\"\\nDrop NaN:\\n\", df2.dropna())\n",
        "\n",
        "# Fill missing values with specified defaults\n",
        "fill_values = {\"Age\": df2[\"Age\"].median(), \"Salary\": df2[\"Salary\"].mean(), \"Name\": \"Unknown\"}\n",
        "print(\"\\nFill NaN:\\n\", df2.fillna(value=fill_values))\n"
      ],
      "metadata": {
        "colab": {
          "base_uri": "https://localhost:8080/"
        },
        "id": "grlG7y1Wh5JE",
        "outputId": "a026bb4d-a323-41cb-9954-24ce6df567aa"
      },
      "execution_count": null,
      "outputs": [
        {
          "output_type": "stream",
          "name": "stdout",
          "text": [
            "Original DataFrame with Missing Values:\n",
            "     Name   Age   Salary\n",
            "0    Eve  28.0  55000.0\n",
            "1  Frank   NaN  62000.0\n",
            "2   None  40.0      NaN\n",
            "\n",
            "Drop NaN:\n",
            "   Name   Age   Salary\n",
            "0  Eve  28.0  55000.0\n",
            "\n",
            "Fill NaN:\n",
            "       Name   Age   Salary\n",
            "0      Eve  28.0  55000.0\n",
            "1    Frank  34.0  62000.0\n",
            "2  Unknown  40.0  58500.0\n"
          ]
        }
      ]
    },
    {
      "cell_type": "code",
      "source": [
        "#  Merging & Joining\n",
        "df_a = pd.DataFrame({\"ID\": [1, 2, 3], \"Name\": [\"Alice\", \"Bob\", \"Charlie\"]})\n",
        "df_b = pd.DataFrame({\"ID\": [1, 2, 3], \"Dept\": [\"HR\", \"IT\", \"Finance\"]})\n",
        "\n",
        "merged = pd.merge(df_a, df_b, on=\"ID\")#merged according to ID\n",
        "print(\"Merged DataFrame:\\n\", merged)\n"
      ],
      "metadata": {
        "colab": {
          "base_uri": "https://localhost:8080/"
        },
        "id": "jUjQZBo1iDTJ",
        "outputId": "6f2fbde1-7c4a-4890-c548-5b3ceb996454"
      },
      "execution_count": null,
      "outputs": [
        {
          "output_type": "stream",
          "name": "stdout",
          "text": [
            "Merged DataFrame:\n",
            "    ID     Name     Dept\n",
            "0   1    Alice       HR\n",
            "1   2      Bob       IT\n",
            "2   3  Charlie  Finance\n"
          ]
        }
      ]
    }
  ]
}